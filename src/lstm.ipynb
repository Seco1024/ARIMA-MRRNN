{
 "cells": [
  {
   "cell_type": "code",
   "execution_count": 2,
   "metadata": {},
   "outputs": [
    {
     "name": "stderr",
     "output_type": "stream",
     "text": [
      "2023-05-16 22:21:19.558160: I tensorflow/core/platform/cpu_feature_guard.cc:182] This TensorFlow binary is optimized to use available CPU instructions in performance-critical operations.\n",
      "To enable the following instructions: SSE4.1 SSE4.2 AVX AVX2 FMA, in other operations, rebuild TensorFlow with the appropriate compiler flags.\n"
     ]
    }
   ],
   "source": [
    "import numpy as np\n",
    "import matplotlib.pyplot as plt\n",
    "import pandas as pd\n",
    "from keras.models import Sequential, load_model\n",
    "from keras.layers import Dense, Dropout, LSTM\n",
    "from keras.callbacks import EarlyStopping, ModelCheckpoint, ReduceLROnPlateau, TensorBoard\n",
    "from keras.losses import MeanSquaredError\n",
    "from keras.optimizers import Adam\n",
    "from keras import regularizers, metrics, backend\n",
    "from sklearn.preprocessing import MinMaxScaler\n",
    "from sklearn.metrics import mean_squared_error, mean_absolute_error\n",
    "from lib import lstm_tools\n",
    "import os\n",
    "import math"
   ]
  },
  {
   "cell_type": "code",
   "execution_count": 3,
   "metadata": {},
   "outputs": [],
   "source": [
    "parent_dir = os.path.abspath(os.path.join(os.getcwd(), os.path.pardir))\n",
    "files_dir = os.path.join(parent_dir, 'data/VARMA_ARIMA/after_ARIMA/')"
   ]
  },
  {
   "attachments": {},
   "cell_type": "markdown",
   "metadata": {},
   "source": [
    "## **ARIMA input**"
   ]
  },
  {
   "cell_type": "code",
   "execution_count": 3,
   "metadata": {},
   "outputs": [],
   "source": [
    "data = []\n",
    "d = 0\n",
    "\n",
    "for file in os.listdir(files_dir):\n",
    "    file_path = os.path.join(files_dir, file)\n",
    "    df = pd.read_csv(file_path, index_col='date', parse_dates=True)\n",
    "    if not d:\n",
    "        dates = df.index\n",
    "        d = 1\n",
    "    if np.isnan(df).any().any() or np.isnan(df).any().any() :\n",
    "        print(file)\n",
    "        continue\n",
    "    data.append(df.reset_index(drop=True))"
   ]
  },
  {
   "attachments": {},
   "cell_type": "markdown",
   "metadata": {},
   "source": [
    "## **預處理：MinMax Scaler**"
   ]
  },
  {
   "cell_type": "code",
   "execution_count": 4,
   "metadata": {},
   "outputs": [],
   "source": [
    "# scaler = MinMaxScaler()"
   ]
  },
  {
   "attachments": {},
   "cell_type": "markdown",
   "metadata": {},
   "source": [
    "## **預處理：切割資料集**"
   ]
  },
  {
   "cell_type": "code",
   "execution_count": 5,
   "metadata": {},
   "outputs": [],
   "source": [
    "X, y, train_X, train_y, val_X, val_y, test_X, test_y = [],[],[],[],[],[],[],[]\n",
    "past_n = 14\n",
    "future_n = 1\n",
    "\n",
    "for pair_corr in data:\n",
    "    # scaler.fit(pair_corr)\n",
    "    # pair_corr = scaler.transform(pair_corr)\n",
    "    for i in range(past_n, len(pair_corr) - future_n + 1):\n",
    "        X.append(pair_corr[i - past_n:i])\n",
    "        y.append(pair_corr[i + future_n - 1:i + future_n]['close'])"
   ]
  },
  {
   "cell_type": "code",
   "execution_count": 6,
   "metadata": {},
   "outputs": [],
   "source": [
    "X = np.array([X[i].values.tolist() for i in range(len(X))])\n",
    "y = np.array([a.values.tolist() for a in y])"
   ]
  },
  {
   "cell_type": "code",
   "execution_count": 7,
   "metadata": {},
   "outputs": [],
   "source": [
    "train_X, train_y = X[:int(len(X) * 0.7)], y[:int(len(X) * 0.7)]\n",
    "val_X, val_y = X[int(len(X) * 0.7):int(len(X) * (0.7 + 0.15))], y[int(len(X) * 0.7):int(len(X) * (0.7 + 0.15))]\n",
    "test_X, test_y = X[int(len(X) * (0.7 + 0.15)):], y[int(len(X) * (0.7 + 0.15)):]"
   ]
  },
  {
   "cell_type": "code",
   "execution_count": 8,
   "metadata": {},
   "outputs": [],
   "source": [
    "input_shape = (train_X.shape[1], train_X.shape[2])"
   ]
  },
  {
   "cell_type": "code",
   "execution_count": 9,
   "metadata": {},
   "outputs": [
    {
     "data": {
      "text/plain": [
       "(110703, 14, 8)"
      ]
     },
     "execution_count": 9,
     "metadata": {},
     "output_type": "execute_result"
    }
   ],
   "source": [
    "train_X.shape"
   ]
  },
  {
   "attachments": {},
   "cell_type": "markdown",
   "metadata": {},
   "source": [
    "## **模型訓練**"
   ]
  },
  {
   "cell_type": "code",
   "execution_count": 11,
   "metadata": {},
   "outputs": [],
   "source": [
    "def rmse(y_true, y_pred):\n",
    "    return backend.sqrt(backend.mean(backend.square(y_pred - y_true)))"
   ]
  },
  {
   "cell_type": "code",
   "execution_count": 12,
   "metadata": {},
   "outputs": [],
   "source": [
    "def build_lstm_model(x_shape, y_shape, neurons, dropout_rate, is_doubled_layer, is_regularized):\n",
    "    model = Sequential()\n",
    "    if is_doubled_layer:\n",
    "        model.add(LSTM(neurons, input_shape=x_shape, return_sequences=True))\n",
    "        model.add(Dropout(dropout_rate))\n",
    "        model.add(LSTM(int(neurons/2), input_shape=x_shape, return_sequences=True))\n",
    "        model.add(Dropout(dropout_rate))\n",
    "    else:\n",
    "        model.add(LSTM(neurons, input_shape=x_shape))\n",
    "        model.add(Dropout(dropout_rate))\n",
    "    if is_regularized:\n",
    "        model.add(Dense(x_shape[1], 'relu',  kernel_regularizer=regularizers.l2(0.01)))\n",
    "    else:\n",
    "        model.add(Dense(x_shape[1], 'relu'))\n",
    "    model.add(Dense(y_shape, 'linear'))\n",
    "    \n",
    "    adam = Adam(lr=0.001)\n",
    "    mse = MeanSquaredError()\n",
    "    model.compile(optimizer=adam, loss=mse, metrics=[metrics.MSE, metrics.MAE])\n",
    "    return model"
   ]
  },
  {
   "attachments": {},
   "cell_type": "markdown",
   "metadata": {},
   "source": [
    "## **比較模型**"
   ]
  },
  {
   "cell_type": "code",
   "execution_count": 13,
   "metadata": {},
   "outputs": [
    {
     "name": "stderr",
     "output_type": "stream",
     "text": [
      "2023-05-16 21:09:52.392110: I tensorflow/core/common_runtime/process_util.cc:146] Creating new thread pool with default inter op setting: 2. Tune using inter_op_parallelism_threads for best performance.\n"
     ]
    },
    {
     "name": "stdout",
     "output_type": "stream",
     "text": [
      "Model: \"sequential\"\n",
      "_________________________________________________________________\n",
      " Layer (type)                Output Shape              Param #   \n",
      "=================================================================\n",
      " lstm (LSTM)                 (None, 64)                18688     \n",
      "                                                                 \n",
      " dropout (Dropout)           (None, 64)                0         \n",
      "                                                                 \n",
      " dense (Dense)               (None, 8)                 520       \n",
      "                                                                 \n",
      " dense_1 (Dense)             (None, 1)                 9         \n",
      "                                                                 \n",
      "=================================================================\n",
      "Total params: 19,217\n",
      "Trainable params: 19,217\n",
      "Non-trainable params: 0\n",
      "_________________________________________________________________\n"
     ]
    },
    {
     "name": "stderr",
     "output_type": "stream",
     "text": [
      "2023-05-16 21:09:52.734392: I tensorflow/core/common_runtime/executor.cc:1197] [/device:CPU:0] (DEBUG INFO) Executor start aborting (this does not indicate an error and you can ignore this message): INVALID_ARGUMENT: You must feed a value for placeholder tensor 'gradients/split_2_grad/concat/split_2/split_dim' with dtype int32\n",
      "\t [[{{node gradients/split_2_grad/concat/split_2/split_dim}}]]\n",
      "2023-05-16 21:09:52.736094: I tensorflow/core/common_runtime/executor.cc:1197] [/device:CPU:0] (DEBUG INFO) Executor start aborting (this does not indicate an error and you can ignore this message): INVALID_ARGUMENT: You must feed a value for placeholder tensor 'gradients/split_grad/concat/split/split_dim' with dtype int32\n",
      "\t [[{{node gradients/split_grad/concat/split/split_dim}}]]\n",
      "2023-05-16 21:09:52.737500: I tensorflow/core/common_runtime/executor.cc:1197] [/device:CPU:0] (DEBUG INFO) Executor start aborting (this does not indicate an error and you can ignore this message): INVALID_ARGUMENT: You must feed a value for placeholder tensor 'gradients/split_1_grad/concat/split_1/split_dim' with dtype int32\n",
      "\t [[{{node gradients/split_1_grad/concat/split_1/split_dim}}]]\n",
      "/home/seco/packages/miniconda3/envs/VARMA-MRRNN/lib/python3.9/site-packages/keras/optimizers/legacy/adam.py:117: UserWarning: The `lr` argument is deprecated, use `learning_rate` instead.\n",
      "  super().__init__(name, **kwargs)\n"
     ]
    }
   ],
   "source": [
    "model = build_lstm_model(input_shape, 1, 64, 0.5, 0, 1)\n",
    "model.summary()"
   ]
  },
  {
   "cell_type": "code",
   "execution_count": 14,
   "metadata": {},
   "outputs": [],
   "source": [
    "checkpoint_dir = os.path.join(parent_dir, 'models/0515_Single_ARIMA.h5')\n",
    "early_stopping = EarlyStopping(monitor='val_loss', patience=50)\n",
    "checkpoint_callback = ModelCheckpoint(checkpoint_dir, monitor='val_loss', verbose=1, \n",
    "                                      mode='min', save_best_only=True)\n",
    "lr_reduction = ReduceLROnPlateau(monitor='val_loss', factor=0.2,\n",
    "                              patience=15, min_lr=0.0001)\n"
   ]
  },
  {
   "cell_type": "code",
   "execution_count": 27,
   "metadata": {},
   "outputs": [
    {
     "name": "stdout",
     "output_type": "stream",
     "text": [
      "Epoch 1/3\n",
      "865/865 [==============================] - ETA: 0s - loss: 0.2033 - mean_squared_error: 0.1996 - mean_absolute_error: 0.3692\n",
      "Epoch 1: val_loss improved from 0.20033 to 0.20014, saving model to /home/seco/documents/VARMA-MRRNN/models/0515_Single_ARIMA.h5\n",
      "865/865 [==============================] - 27s 31ms/step - loss: 0.2033 - mean_squared_error: 0.1996 - mean_absolute_error: 0.3692 - val_loss: 0.2001 - val_mean_squared_error: 0.1991 - val_mean_absolute_error: 0.3711 - lr: 0.0010\n",
      "Epoch 2/3\n",
      "865/865 [==============================] - ETA: 0s - loss: 0.2001 - mean_squared_error: 0.1995 - mean_absolute_error: 0.3690\n",
      "Epoch 2: val_loss improved from 0.20014 to 0.19944, saving model to /home/seco/documents/VARMA-MRRNN/models/0515_Single_ARIMA.h5\n",
      "865/865 [==============================] - 26s 30ms/step - loss: 0.2001 - mean_squared_error: 0.1995 - mean_absolute_error: 0.3690 - val_loss: 0.1994 - val_mean_squared_error: 0.1990 - val_mean_absolute_error: 0.3708 - lr: 0.0010\n",
      "Epoch 3/3\n",
      "865/865 [==============================] - ETA: 0s - loss: 0.1999 - mean_squared_error: 0.1994 - mean_absolute_error: 0.3691\n",
      "Epoch 3: val_loss improved from 0.19944 to 0.19915, saving model to /home/seco/documents/VARMA-MRRNN/models/0515_Single_ARIMA.h5\n",
      "865/865 [==============================] - 28s 32ms/step - loss: 0.1999 - mean_squared_error: 0.1994 - mean_absolute_error: 0.3691 - val_loss: 0.1992 - val_mean_squared_error: 0.1987 - val_mean_absolute_error: 0.3684 - lr: 0.0010\n"
     ]
    }
   ],
   "source": [
    "history = model.fit(train_X, train_y, epochs=3, batch_size=128, validation_data=(val_X, val_y), callbacks=[early_stopping, checkpoint_callback, lr_reduction])"
   ]
  },
  {
   "cell_type": "code",
   "execution_count": 16,
   "metadata": {},
   "outputs": [],
   "source": [
    "def visialize_loss_plot(history):\n",
    "    plt.plot(history.history['loss'], label='training loss')\n",
    "    plt.plot(history.history['val_loss'], label='validation loss')\n",
    "    plt.legend()\n",
    "    plt.xlabel('# epochs')\n",
    "    plt.ylabel('MSE')\n",
    "    plt.show()"
   ]
  },
  {
   "cell_type": "code",
   "execution_count": 28,
   "metadata": {},
   "outputs": [
    {
     "data": {
      "image/png": "[encoded data removed]",
      "text/plain": [
       "<Figure size 640x480 with 1 Axes>"
      ]
     },
     "metadata": {},
     "output_type": "display_data"
    }
   ],
   "source": [
    "visialize_loss_plot(history)"
   ]
  },
  {
   "cell_type": "code",
   "execution_count": 29,
   "metadata": {},
   "outputs": [],
   "source": [
    "def evaluate_model(model, train_X, train_y, val_X, val_y, test_X, test_y):\n",
    "    score_train = model.evaluate(train_X, train_y)\n",
    "    score_test = model.evaluate(test_X, test_y)\n",
    "    score_val = model.evaluate(val_X, val_y)\n",
    "    evaluate_df = pd.DataFrame(np.array([score_train[1], score_val[1], score_test[1], \n",
    "                                score_train[2], score_val[2], score_test[2]]).reshape(-1, 6),\n",
    "                      columns=[\"train_MSE\", \"val_MSE\", \"test_MSE\", \"train_MAE\", \"val_MAE\", \"test_MAE\"])\n",
    "    return evaluate_df\n",
    "    "
   ]
  },
  {
   "cell_type": "code",
   "execution_count": 31,
   "metadata": {},
   "outputs": [
    {
     "name": "stderr",
     "output_type": "stream",
     "text": [
      "2023-05-16 21:18:39.425603: I tensorflow/core/common_runtime/executor.cc:1197] [/device:CPU:0] (DEBUG INFO) Executor start aborting (this does not indicate an error and you can ignore this message): INVALID_ARGUMENT: You must feed a value for placeholder tensor 'gradients/split_2_grad/concat/split_2/split_dim' with dtype int32\n",
      "\t [[{{node gradients/split_2_grad/concat/split_2/split_dim}}]]\n",
      "2023-05-16 21:18:39.427408: I tensorflow/core/common_runtime/executor.cc:1197] [/device:CPU:0] (DEBUG INFO) Executor start aborting (this does not indicate an error and you can ignore this message): INVALID_ARGUMENT: You must feed a value for placeholder tensor 'gradients/split_grad/concat/split/split_dim' with dtype int32\n",
      "\t [[{{node gradients/split_grad/concat/split/split_dim}}]]\n",
      "2023-05-16 21:18:39.428603: I tensorflow/core/common_runtime/executor.cc:1197] [/device:CPU:0] (DEBUG INFO) Executor start aborting (this does not indicate an error and you can ignore this message): INVALID_ARGUMENT: You must feed a value for placeholder tensor 'gradients/split_1_grad/concat/split_1/split_dim' with dtype int32\n",
      "\t [[{{node gradients/split_1_grad/concat/split_1/split_dim}}]]\n"
     ]
    }
   ],
   "source": [
    "best_model = load_model(os.path.join(parent_dir, 'models/0515_Single_ARIMA.h5'))"
   ]
  },
  {
   "cell_type": "code",
   "execution_count": 32,
   "metadata": {},
   "outputs": [
    {
     "name": "stderr",
     "output_type": "stream",
     "text": [
      "2023-05-16 21:18:41.556576: I tensorflow/core/common_runtime/executor.cc:1197] [/device:CPU:0] (DEBUG INFO) Executor start aborting (this does not indicate an error and you can ignore this message): INVALID_ARGUMENT: You must feed a value for placeholder tensor 'gradients/split_2_grad/concat/split_2/split_dim' with dtype int32\n",
      "\t [[{{node gradients/split_2_grad/concat/split_2/split_dim}}]]\n",
      "2023-05-16 21:18:41.558491: I tensorflow/core/common_runtime/executor.cc:1197] [/device:CPU:0] (DEBUG INFO) Executor start aborting (this does not indicate an error and you can ignore this message): INVALID_ARGUMENT: You must feed a value for placeholder tensor 'gradients/split_grad/concat/split/split_dim' with dtype int32\n",
      "\t [[{{node gradients/split_grad/concat/split/split_dim}}]]\n",
      "2023-05-16 21:18:41.559770: I tensorflow/core/common_runtime/executor.cc:1197] [/device:CPU:0] (DEBUG INFO) Executor start aborting (this does not indicate an error and you can ignore this message): INVALID_ARGUMENT: You must feed a value for placeholder tensor 'gradients/split_1_grad/concat/split_1/split_dim' with dtype int32\n",
      "\t [[{{node gradients/split_1_grad/concat/split_1/split_dim}}]]\n"
     ]
    },
    {
     "name": "stdout",
     "output_type": "stream",
     "text": [
      "3460/3460 [==============================] - 26s 7ms/step - loss: 0.1996 - mean_squared_error: 0.1991 - mean_absolute_error: 0.3689\n",
      "742/742 [==============================] - 6s 8ms/step - loss: 0.2023 - mean_squared_error: 0.2019 - mean_absolute_error: 0.3723\n",
      "742/742 [==============================] - 6s 7ms/step - loss: 0.1992 - mean_squared_error: 0.1987 - mean_absolute_error: 0.3684\n"
     ]
    }
   ],
   "source": [
    "evaluation = evaluate_model(best_model, train_X, train_y, val_X, val_y, test_X, test_y)"
   ]
  },
  {
   "attachments": {},
   "cell_type": "markdown",
   "metadata": {},
   "source": [
    "## **預測**"
   ]
  },
  {
   "cell_type": "code",
   "execution_count": 4,
   "metadata": {},
   "outputs": [],
   "source": [
    "tmp_dir = os.path.join(parent_dir, 'data/VARMA_ARIMA_prediction/after_ARIMA/')"
   ]
  },
  {
   "cell_type": "code",
   "execution_count": 5,
   "metadata": {},
   "outputs": [
    {
     "name": "stderr",
     "output_type": "stream",
     "text": [
      "2023-05-16 22:21:31.531011: I tensorflow/core/common_runtime/process_util.cc:146] Creating new thread pool with default inter op setting: 2. Tune using inter_op_parallelism_threads for best performance.\n",
      "2023-05-16 22:21:31.869802: I tensorflow/core/common_runtime/executor.cc:1197] [/device:CPU:0] (DEBUG INFO) Executor start aborting (this does not indicate an error and you can ignore this message): INVALID_ARGUMENT: You must feed a value for placeholder tensor 'gradients/split_2_grad/concat/split_2/split_dim' with dtype int32\n",
      "\t [[{{node gradients/split_2_grad/concat/split_2/split_dim}}]]\n",
      "2023-05-16 22:21:31.871459: I tensorflow/core/common_runtime/executor.cc:1197] [/device:CPU:0] (DEBUG INFO) Executor start aborting (this does not indicate an error and you can ignore this message): INVALID_ARGUMENT: You must feed a value for placeholder tensor 'gradients/split_grad/concat/split/split_dim' with dtype int32\n",
      "\t [[{{node gradients/split_grad/concat/split/split_dim}}]]\n",
      "2023-05-16 22:21:31.872785: I tensorflow/core/common_runtime/executor.cc:1197] [/device:CPU:0] (DEBUG INFO) Executor start aborting (this does not indicate an error and you can ignore this message): INVALID_ARGUMENT: You must feed a value for placeholder tensor 'gradients/split_1_grad/concat/split_1/split_dim' with dtype int32\n",
      "\t [[{{node gradients/split_1_grad/concat/split_1/split_dim}}]]\n"
     ]
    }
   ],
   "source": [
    "best_model = load_model(os.path.join(parent_dir, 'models/0515_VARMA_64_0_1.h5'))"
   ]
  },
  {
   "cell_type": "code",
   "execution_count": 45,
   "metadata": {},
   "outputs": [],
   "source": [
    "past_n = 14\n",
    "future_n = 1\n",
    "mae, mse = [], []\n",
    "count = 0\n"
   ]
  },
  {
   "cell_type": "code",
   "execution_count": 46,
   "metadata": {},
   "outputs": [
    {
     "name": "stdout",
     "output_type": "stream",
     "text": [
      "5/5 [==============================] - 0s 8ms/step\n"
     ]
    }
   ],
   "source": [
    "tmp_dir = os.path.join(parent_dir, 'data/VARMA_ARIMA_prediction/after_ARIMA/')\n",
    "hybrid_prediction_mse, hybrid_prediction_mae, arima_prediction_mae, arima_prediction_mse = [], [], [], []\n",
    "for file in os.listdir(tmp_dir):\n",
    "    if count != 0:\n",
    "        break\n",
    "    count = count + 1\n",
    "    residual_file_path = os.path.join(files_dir, file)\n",
    "    residual_df = pd.read_csv(residual_file_path, index_col='date', parse_dates=True)\n",
    "    residual_df = residual_df.reset_index(drop=True)\n",
    "    arima_output_path = os.path.join(parent_dir, f'data/VARMA_ARIMA_prediction/after_ARIMA/{file}')\n",
    "    arima_output_df = pd.read_csv(arima_output_path, index_col='date', parse_dates=True)\n",
    "    arima_output_df = arima_output_df.reset_index(drop=True)\n",
    "    arima_output_df = arima_output_df['close']\n",
    "    original_path = os.path.join(parent_dir, f'data/preprocessed_data/{file}')\n",
    "    original_df = pd.read_csv(original_path, index_col='date', parse_dates=True)\n",
    "    timestamps = original_df.index\n",
    "    original_df = original_df.reset_index(drop=True)\n",
    "    original_df = original_df['close']\n",
    "    original_df = original_df[-len(arima_output_df):]\n",
    "    \n",
    "    residual_X, arima_prediction, original, lstm_predict = [], [], [], []\n",
    "    for i in range(past_n, len(residual_df) - future_n + 1):\n",
    "        residual_X.append(residual_df[i - past_n:i])\n",
    "    residual_X = np.array([residual_X[i].values.tolist() for i in range(len(residual_X))])\n",
    "    predictions_df = best_model.predict(residual_X)\n",
    "    for i in range(len(predictions_df)):\n",
    "        lstm_predict.append(predictions_df[i][0])\n",
    "    \n",
    "    arima_prediction = arima_output_df[-len(lstm_predict):].tolist()\n",
    "    original = original_df[-len(lstm_predict):].tolist()\n",
    "    timestamps = timestamps[-len(lstm_predict):].tolist()\n",
    "    hybrid_prediction = [x - y for x, y in zip(arima_prediction, lstm_predict)]\n",
    "    \n",
    "    arima_prediction_mse.append(mean_squared_error(original, arima_prediction))\n",
    "    arima_prediction_mae.append(mean_absolute_error(original, arima_prediction))\n",
    "    hybrid_prediction_mse.append(mean_squared_error(original, hybrid_prediction))\n",
    "    hybrid_prediction_mae.append(mean_absolute_error(original, hybrid_prediction))"
   ]
  },
  {
   "cell_type": "code",
   "execution_count": 42,
   "metadata": {},
   "outputs": [
    {
     "ename": "AttributeError",
     "evalue": "module 'lib.lstm_tools' has no attribute 'mean'",
     "output_type": "error",
     "traceback": [
      "\u001b[0;31m---------------------------------------------------------------------------\u001b[0m",
      "\u001b[0;31mAttributeError\u001b[0m                            Traceback (most recent call last)",
      "Cell \u001b[0;32mIn[42], line 2\u001b[0m\n\u001b[1;32m      1\u001b[0m df_error \u001b[39m=\u001b[39m pd\u001b[39m.\u001b[39mDataFrame(columns\u001b[39m=\u001b[39m[\u001b[39m'\u001b[39m\u001b[39mARIMA prediction MSE\u001b[39m\u001b[39m'\u001b[39m, \u001b[39m'\u001b[39m\u001b[39mARIMA prediction MAE\u001b[39m\u001b[39m'\u001b[39m, \u001b[39m'\u001b[39m\u001b[39mARIMA_LSTM prediction MSE\u001b[39m\u001b[39m'\u001b[39m, \u001b[39m'\u001b[39m\u001b[39mARIMA_LSTM prediction MAE\u001b[39m\u001b[39m'\u001b[39m])\n\u001b[0;32m----> 2\u001b[0m df_error\u001b[39m.\u001b[39mloc[\u001b[39m0\u001b[39m] \u001b[39m=\u001b[39m lstm_tools\u001b[39m.\u001b[39;49mmean(arima_prediction_mse), lstm_tools\u001b[39m.\u001b[39mmean(arima_prediction_mae), lstm_tools\u001b[39m.\u001b[39mmean(hybrid_prediction_mse), lstm_tools\u001b[39m.\u001b[39mmean(hybrid_prediction_mae)\n",
      "\u001b[0;31mAttributeError\u001b[0m: module 'lib.lstm_tools' has no attribute 'mean'"
     ]
    }
   ],
   "source": [
    "df_error = pd.DataFrame(columns=['ARIMA prediction MSE', 'ARIMA prediction MAE', 'ARIMA_LSTM prediction MSE', 'ARIMA_LSTM prediction MAE'])\n",
    "df_error.loc[0] = lstm_tools.mean(arima_prediction_mse), lstm_tools.mean(arima_prediction_mae), lstm_tools.mean(hybrid_prediction_mse), lstm_tools.mean(hybrid_prediction_mae)"
   ]
  },
  {
   "cell_type": "code",
   "execution_count": 53,
   "metadata": {},
   "outputs": [
    {
     "data": {
      "text/plain": [
       "<matplotlib.legend.Legend at 0x7f39f23c6fd0>"
      ]
     },
     "execution_count": 53,
     "metadata": {},
     "output_type": "execute_result"
    },
    {
     "data": {
      "image/png": "[encoded data removed]",
      "text/plain": [
       "<Figure size 640x480 with 1 Axes>"
      ]
     },
     "metadata": {},
     "output_type": "display_data"
    }
   ],
   "source": [
    "plt.plot(timestamps, hybrid_prediction, label= f'VARMA-LSTM)')\n",
    "plt.plot(timestamps,original, label='Original Data')\n",
    "plt.legend()"
   ]
  },
  {
   "cell_type": "code",
   "execution_count": 50,
   "metadata": {},
   "outputs": [
    {
     "data": {
      "text/plain": [
       "[Timestamp('2014-01-21 00:00:00'),\n",
       " Timestamp('2014-02-18 00:00:00'),\n",
       " Timestamp('2014-03-11 00:00:00'),\n",
       " Timestamp('2014-03-31 00:00:00'),\n",
       " Timestamp('2014-04-21 00:00:00'),\n",
       " Timestamp('2014-05-12 00:00:00'),\n",
       " Timestamp('2014-05-30 00:00:00'),\n",
       " Timestamp('2014-06-20 00:00:00'),\n",
       " Timestamp('2014-07-10 00:00:00'),\n",
       " Timestamp('2014-07-31 00:00:00'),\n",
       " Timestamp('2014-08-20 00:00:00'),\n",
       " Timestamp('2014-09-10 00:00:00'),\n",
       " Timestamp('2014-09-30 00:00:00'),\n",
       " Timestamp('2014-10-21 00:00:00'),\n",
       " Timestamp('2014-11-10 00:00:00'),\n",
       " Timestamp('2014-11-28 00:00:00'),\n",
       " Timestamp('2014-12-18 00:00:00'),\n",
       " Timestamp('2015-01-08 00:00:00'),\n",
       " Timestamp('2015-01-28 00:00:00'),\n",
       " Timestamp('2015-02-25 00:00:00'),\n",
       " Timestamp('2015-03-18 00:00:00'),\n",
       " Timestamp('2015-04-09 00:00:00'),\n",
       " Timestamp('2015-04-29 00:00:00'),\n",
       " Timestamp('2015-05-20 00:00:00'),\n",
       " Timestamp('2015-06-09 00:00:00'),\n",
       " Timestamp('2015-06-30 00:00:00'),\n",
       " Timestamp('2015-07-21 00:00:00'),\n",
       " Timestamp('2015-08-10 00:00:00'),\n",
       " Timestamp('2015-08-28 00:00:00'),\n",
       " Timestamp('2015-09-17 00:00:00'),\n",
       " Timestamp('2015-10-12 00:00:00'),\n",
       " Timestamp('2015-10-30 00:00:00'),\n",
       " Timestamp('2015-11-19 00:00:00'),\n",
       " Timestamp('2015-12-09 00:00:00'),\n",
       " Timestamp('2015-12-29 00:00:00'),\n",
       " Timestamp('2016-01-19 00:00:00'),\n",
       " Timestamp('2016-02-16 00:00:00'),\n",
       " Timestamp('2016-03-08 00:00:00'),\n",
       " Timestamp('2016-03-28 00:00:00'),\n",
       " Timestamp('2016-04-19 00:00:00'),\n",
       " Timestamp('2016-05-10 00:00:00'),\n",
       " Timestamp('2016-05-30 00:00:00'),\n",
       " Timestamp('2016-06-20 00:00:00'),\n",
       " Timestamp('2016-07-11 00:00:00'),\n",
       " Timestamp('2016-07-29 00:00:00'),\n",
       " Timestamp('2016-08-18 00:00:00'),\n",
       " Timestamp('2016-09-07 00:00:00'),\n",
       " Timestamp('2016-09-30 00:00:00'),\n",
       " Timestamp('2016-10-21 00:00:00'),\n",
       " Timestamp('2016-11-10 00:00:00'),\n",
       " Timestamp('2016-11-30 00:00:00'),\n",
       " Timestamp('2016-12-20 00:00:00'),\n",
       " Timestamp('2017-01-10 00:00:00'),\n",
       " Timestamp('2017-02-07 00:00:00'),\n",
       " Timestamp('2017-02-24 00:00:00'),\n",
       " Timestamp('2017-03-20 00:00:00'),\n",
       " Timestamp('2017-04-11 00:00:00'),\n",
       " Timestamp('2017-05-02 00:00:00'),\n",
       " Timestamp('2017-05-22 00:00:00'),\n",
       " Timestamp('2017-06-12 00:00:00'),\n",
       " Timestamp('2017-06-30 00:00:00'),\n",
       " Timestamp('2017-07-20 00:00:00'),\n",
       " Timestamp('2017-08-09 00:00:00'),\n",
       " Timestamp('2017-08-29 00:00:00'),\n",
       " Timestamp('2017-09-18 00:00:00'),\n",
       " Timestamp('2017-10-06 00:00:00'),\n",
       " Timestamp('2017-10-30 00:00:00'),\n",
       " Timestamp('2017-11-17 00:00:00'),\n",
       " Timestamp('2017-12-07 00:00:00'),\n",
       " Timestamp('2017-12-27 00:00:00'),\n",
       " Timestamp('2018-01-17 00:00:00'),\n",
       " Timestamp('2018-02-06 00:00:00'),\n",
       " Timestamp('2018-03-07 00:00:00'),\n",
       " Timestamp('2018-03-27 00:00:00'),\n",
       " Timestamp('2018-04-18 00:00:00'),\n",
       " Timestamp('2018-05-09 00:00:00'),\n",
       " Timestamp('2018-05-29 00:00:00'),\n",
       " Timestamp('2018-06-19 00:00:00'),\n",
       " Timestamp('2018-07-09 00:00:00'),\n",
       " Timestamp('2018-07-27 00:00:00'),\n",
       " Timestamp('2018-08-16 00:00:00'),\n",
       " Timestamp('2018-09-05 00:00:00'),\n",
       " Timestamp('2018-09-26 00:00:00'),\n",
       " Timestamp('2018-10-17 00:00:00'),\n",
       " Timestamp('2018-11-06 00:00:00'),\n",
       " Timestamp('2018-11-26 00:00:00'),\n",
       " Timestamp('2018-12-14 00:00:00'),\n",
       " Timestamp('2019-01-04 00:00:00'),\n",
       " Timestamp('2019-01-24 00:00:00'),\n",
       " Timestamp('2019-02-22 00:00:00'),\n",
       " Timestamp('2019-03-18 00:00:00'),\n",
       " Timestamp('2019-04-09 00:00:00'),\n",
       " Timestamp('2019-04-29 00:00:00'),\n",
       " Timestamp('2019-05-20 00:00:00'),\n",
       " Timestamp('2019-06-10 00:00:00'),\n",
       " Timestamp('2019-06-28 00:00:00'),\n",
       " Timestamp('2019-07-18 00:00:00'),\n",
       " Timestamp('2019-08-07 00:00:00'),\n",
       " Timestamp('2019-08-28 00:00:00'),\n",
       " Timestamp('2019-09-18 00:00:00'),\n",
       " Timestamp('2019-10-09 00:00:00'),\n",
       " Timestamp('2019-10-31 00:00:00'),\n",
       " Timestamp('2019-11-20 00:00:00'),\n",
       " Timestamp('2019-12-10 00:00:00'),\n",
       " Timestamp('2019-12-30 00:00:00'),\n",
       " Timestamp('2020-01-20 00:00:00'),\n",
       " Timestamp('2020-02-18 00:00:00'),\n",
       " Timestamp('2020-03-10 00:00:00'),\n",
       " Timestamp('2020-03-30 00:00:00'),\n",
       " Timestamp('2020-04-21 00:00:00'),\n",
       " Timestamp('2020-05-12 00:00:00'),\n",
       " Timestamp('2020-06-01 00:00:00'),\n",
       " Timestamp('2020-06-19 00:00:00'),\n",
       " Timestamp('2020-07-13 00:00:00'),\n",
       " Timestamp('2020-07-31 00:00:00'),\n",
       " Timestamp('2020-08-20 00:00:00'),\n",
       " Timestamp('2020-09-09 00:00:00'),\n",
       " Timestamp('2020-09-29 00:00:00'),\n",
       " Timestamp('2020-10-22 00:00:00'),\n",
       " Timestamp('2020-11-11 00:00:00'),\n",
       " Timestamp('2020-12-01 00:00:00'),\n",
       " Timestamp('2020-12-21 00:00:00'),\n",
       " Timestamp('2021-01-11 00:00:00'),\n",
       " Timestamp('2021-01-29 00:00:00'),\n",
       " Timestamp('2021-03-02 00:00:00'),\n",
       " Timestamp('2021-03-22 00:00:00'),\n",
       " Timestamp('2021-04-13 00:00:00'),\n",
       " Timestamp('2021-05-04 00:00:00'),\n",
       " Timestamp('2021-05-24 00:00:00'),\n",
       " Timestamp('2021-06-11 00:00:00'),\n",
       " Timestamp('2021-07-02 00:00:00'),\n",
       " Timestamp('2021-07-22 00:00:00'),\n",
       " Timestamp('2021-08-11 00:00:00'),\n",
       " Timestamp('2021-08-31 00:00:00'),\n",
       " Timestamp('2021-09-22 00:00:00'),\n",
       " Timestamp('2021-10-13 00:00:00'),\n",
       " Timestamp('2021-11-02 00:00:00'),\n",
       " Timestamp('2021-11-22 00:00:00'),\n",
       " Timestamp('2021-12-10 00:00:00'),\n",
       " Timestamp('2021-12-30 00:00:00'),\n",
       " Timestamp('2022-01-20 00:00:00'),\n",
       " Timestamp('2022-02-18 00:00:00'),\n",
       " Timestamp('2022-03-11 00:00:00'),\n",
       " Timestamp('2022-03-31 00:00:00'),\n",
       " Timestamp('2022-04-22 00:00:00'),\n",
       " Timestamp('2022-05-13 00:00:00'),\n",
       " Timestamp('2022-06-02 00:00:00'),\n",
       " Timestamp('2022-06-23 00:00:00'),\n",
       " Timestamp('2022-07-13 00:00:00'),\n",
       " Timestamp('2022-08-02 00:00:00'),\n",
       " Timestamp('2022-08-22 00:00:00'),\n",
       " Timestamp('2022-09-12 00:00:00'),\n",
       " Timestamp('2022-09-30 00:00:00'),\n",
       " Timestamp('2022-10-21 00:00:00'),\n",
       " Timestamp('2022-11-10 00:00:00'),\n",
       " Timestamp('2022-11-30 00:00:00'),\n",
       " Timestamp('2022-12-20 00:00:00'),\n",
       " Timestamp('2023-01-10 00:00:00'),\n",
       " Timestamp('2023-02-09 00:00:00')]"
      ]
     },
     "execution_count": 50,
     "metadata": {},
     "output_type": "execute_result"
    }
   ],
   "source": [
    "timestamps"
   ]
  },
  {
   "cell_type": "code",
   "execution_count": null,
   "metadata": {},
   "outputs": [],
   "source": []
  }
 ],
 "metadata": {
  "kernelspec": {
   "display_name": "keras",
   "language": "python",
   "name": "python3"
  },
  "language_info": {
   "codemirror_mode": {
    "name": "ipython",
    "version": 3
   },
   "file_extension": ".py",
   "mimetype": "text/x-python",
   "name": "python",
   "nbconvert_exporter": "python",
   "pygments_lexer": "ipython3",
   "version": "3.9.16"
  },
  "orig_nbformat": 4
 },
 "nbformat": 4,
 "nbformat_minor": 2
}
