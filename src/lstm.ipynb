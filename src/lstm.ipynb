{
 "cells": [
  {
   "cell_type": "code",
   "execution_count": 1,
   "metadata": {},
   "outputs": [
    {
     "name": "stderr",
     "output_type": "stream",
     "text": [
      "2023-05-11 00:56:11.214740: I tensorflow/core/platform/cpu_feature_guard.cc:193] This TensorFlow binary is optimized with oneAPI Deep Neural Network Library (oneDNN) to use the following CPU instructions in performance-critical operations:  SSE4.1 SSE4.2 AVX AVX2 FMA\n",
      "To enable them in other operations, rebuild TensorFlow with the appropriate compiler flags.\n"
     ]
    }
   ],
   "source": [
    "import numpy as np\n",
    "import matplotlib.pyplot as plt\n",
    "import pandas as pd\n",
    "from keras.models import Sequential\n",
    "from keras.layers import Dense, Dropout\n",
    "from keras.layers import LSTM\n",
    "from keras.losses import MeanSquaredError\n",
    "from keras.optimizers import Adam\n",
    "from keras import regularizers\n",
    "from keras.callbacks import EarlyStopping\n",
    "from sklearn.preprocessing import MinMaxScaler\n",
    "from lib import lstm_tools\n",
    "import os"
   ]
  },
  {
   "attachments": {},
   "cell_type": "markdown",
   "metadata": {},
   "source": [
    "## **ARIMA input**"
   ]
  },
  {
   "cell_type": "code",
   "execution_count": 2,
   "metadata": {},
   "outputs": [
    {
     "name": "stdout",
     "output_type": "stream",
     "text": [
      "2382_3034.csv\n",
      "2885_4904.csv\n",
      "2395_2886.csv\n",
      "1216_2801.csv\n",
      "2880_2892.csv\n",
      "1326_2395.csv\n",
      "2207_5880.csv\n",
      "2890_6505.csv\n",
      "2883_4904.csv\n",
      "2357_2609.csv\n",
      "2317_2880.csv\n",
      "2615_2801.csv\n",
      "2886_6505.csv\n",
      "2615_6505.csv\n",
      "2207_2883.csv\n",
      "1402_3045.csv\n",
      "1101_2330.csv\n",
      "2890_4904.csv\n",
      "2207_2890.csv\n",
      "2207_2891.csv\n",
      "2609_2615.csv\n",
      "2379_2892.csv\n",
      "2207_9910.csv\n",
      "2801_5871.csv\n",
      "1326_2880.csv\n",
      "2884_6505.csv\n",
      "5871_5880.csv\n",
      "2609_2882.csv\n",
      "1605_2883.csv\n",
      "2412_2880.csv\n",
      "2912_9910.csv\n",
      "2395_5880.csv\n"
     ]
    }
   ],
   "source": [
    "data = []\n",
    "files_dir = '../data/VARMA_ARIMA/filtered_after_ARIMA/'\n",
    "d = 0\n",
    "\n",
    "for file in os.listdir(files_dir):\n",
    "    file_path = os.path.join(files_dir, file)\n",
    "    df = pd.read_csv(file_path, index_col='date', parse_dates=True)\n",
    "    if not d:\n",
    "        dates = df.index\n",
    "        d = 1\n",
    "    if np.isnan(df).any().any() or np.isnan(df).any().any() :\n",
    "        print(file)\n",
    "        continue\n",
    "    data.append(df.reset_index(drop=True))"
   ]
  },
  {
   "attachments": {},
   "cell_type": "markdown",
   "metadata": {},
   "source": [
    "## **預處理：MinMax Scaler**"
   ]
  },
  {
   "cell_type": "code",
   "execution_count": 3,
   "metadata": {},
   "outputs": [],
   "source": [
    "# scaler = MinMaxScaler()"
   ]
  },
  {
   "attachments": {},
   "cell_type": "markdown",
   "metadata": {},
   "source": [
    "## **預處理：切割資料集**"
   ]
  },
  {
   "cell_type": "code",
   "execution_count": 4,
   "metadata": {},
   "outputs": [],
   "source": [
    "X, y, train_X, train_y, val_X, val_y, test_X, test_y = [],[],[],[],[],[],[],[]\n",
    "past_n = 5\n",
    "future_n = 1\n",
    "\n",
    "for pair_corr in data:\n",
    "    # scaler.fit(pair_corr)\n",
    "    # pair_corr = scaler.transform(pair_corr)\n",
    "    for i in range(past_n, len(pair_corr) - future_n + 1):\n",
    "        X.append(pair_corr[i - past_n:i])\n",
    "        y.append(pair_corr[i + future_n - 1:i + future_n]['close'])"
   ]
  },
  {
   "cell_type": "code",
   "execution_count": 5,
   "metadata": {},
   "outputs": [],
   "source": [
    "X = np.array([X[i].values.tolist() for i in range(len(X))])\n",
    "y = np.array([a.values.tolist() for a in y])"
   ]
  },
  {
   "cell_type": "code",
   "execution_count": 6,
   "metadata": {},
   "outputs": [],
   "source": [
    "train_X, train_y = X[:int(len(X) * 0.7)], y[:int(len(X) * 0.7)]\n",
    "val_X, val_y = X[int(len(X) * 0.7):int(len(X) * (0.7 + 0.15))], y[int(len(X) * 0.7):int(len(X) * (0.7 + 0.15))]\n",
    "test_X, test_y = X[int(len(X) * (0.7 + 0.15)):], y[int(len(X) * (0.7 + 0.15)):]"
   ]
  },
  {
   "cell_type": "code",
   "execution_count": 7,
   "metadata": {},
   "outputs": [],
   "source": [
    "input_shape = (train_X.shape[1], train_X.shape[2])"
   ]
  },
  {
   "cell_type": "code",
   "execution_count": 8,
   "metadata": {},
   "outputs": [
    {
     "data": {
      "text/plain": [
       "1"
      ]
     },
     "execution_count": 8,
     "metadata": {},
     "output_type": "execute_result"
    }
   ],
   "source": [
    "train_y.shape[1]"
   ]
  },
  {
   "attachments": {},
   "cell_type": "markdown",
   "metadata": {},
   "source": [
    "## **模型訓練**"
   ]
  },
  {
   "cell_type": "code",
   "execution_count": 27,
   "metadata": {},
   "outputs": [],
   "source": [
    "def build_lstm_model(x_shape, y_shape, neurons, dropout_rate, is_doubled_layer, is_regularized):\n",
    "    model = Sequential()\n",
    "    if is_doubled_layer:\n",
    "        model.add(LSTM(neurons, input_shape=x_shape, return_sequences=True))\n",
    "        model.add(Dropout(dropout_rate))\n",
    "        model.add(LSTM(int(neurons/2), input_shape=x_shape, return_sequences=True))\n",
    "        model.add(Dropout(dropout_rate))\n",
    "    else:\n",
    "        model.add(LSTM(neurons, input_shape=x_shape))\n",
    "        model.add(Dropout(dropout_rate))\n",
    "    if is_regularized:\n",
    "        model.add(Dense(x_shape[1], 'relu',  kernel_regularizer=regularizers.l2(0.01)))\n",
    "    else:\n",
    "        model.add(Dense(x_shape[1], 'relu'))\n",
    "    model.add(Dense(y_shape, 'linear'))\n",
    "    model.compile(optimizer='adam', loss='mse')\n",
    "    return model"
   ]
  },
  {
   "cell_type": "code",
   "execution_count": 34,
   "metadata": {},
   "outputs": [
    {
     "name": "stdout",
     "output_type": "stream",
     "text": [
      "Model: \"sequential_7\"\n",
      "_________________________________________________________________\n",
      " Layer (type)                Output Shape              Param #   \n",
      "=================================================================\n",
      " lstm_12 (LSTM)              (None, 64)                18688     \n",
      "                                                                 \n",
      " dropout_8 (Dropout)         (None, 64)                0         \n",
      "                                                                 \n",
      " dense_14 (Dense)            (None, 8)                 520       \n",
      "                                                                 \n",
      " dense_15 (Dense)            (None, 1)                 9         \n",
      "                                                                 \n",
      "=================================================================\n",
      "Total params: 19,217\n",
      "Trainable params: 19,217\n",
      "Non-trainable params: 0\n",
      "_________________________________________________________________\n"
     ]
    }
   ],
   "source": [
    "model = build_lstm_model(input_shape, 1, 64, 0.5, 0, 1)\n",
    "model.summary()"
   ]
  },
  {
   "cell_type": "code",
   "execution_count": 35,
   "metadata": {},
   "outputs": [
    {
     "name": "stdout",
     "output_type": "stream",
     "text": [
      "Epoch 1/100\n",
      "883/883 [==============================] - 19s 16ms/step - loss: 0.2115 - val_loss: 0.2054\n",
      "Epoch 2/100\n",
      "883/883 [==============================] - 17s 19ms/step - loss: 0.1970 - val_loss: 0.2053\n",
      "Epoch 3/100\n",
      "883/883 [==============================] - 18s 20ms/step - loss: 0.1968 - val_loss: 0.2051\n",
      "Epoch 4/100\n",
      "883/883 [==============================] - 17s 20ms/step - loss: 0.1967 - val_loss: 0.2050\n",
      "Epoch 5/100\n",
      "883/883 [==============================] - 18s 20ms/step - loss: 0.1965 - val_loss: 0.2050\n",
      "Epoch 6/100\n",
      "883/883 [==============================] - 12s 14ms/step - loss: 0.1963 - val_loss: 0.2047\n",
      "Epoch 7/100\n",
      "883/883 [==============================] - 13s 15ms/step - loss: 0.1961 - val_loss: 0.2053\n",
      "Epoch 8/100\n",
      "883/883 [==============================] - 10s 11ms/step - loss: 0.1960 - val_loss: 0.2049\n",
      "Epoch 9/100\n",
      "883/883 [==============================] - 9s 11ms/step - loss: 0.1959 - val_loss: 0.2045\n",
      "Epoch 10/100\n",
      "883/883 [==============================] - 10s 12ms/step - loss: 0.1957 - val_loss: 0.2043\n",
      "Epoch 11/100\n",
      "883/883 [==============================] - 9s 11ms/step - loss: 0.1955 - val_loss: 0.2041\n",
      "Epoch 12/100\n",
      "883/883 [==============================] - 10s 11ms/step - loss: 0.1953 - val_loss: 0.2041\n",
      "Epoch 13/100\n",
      "883/883 [==============================] - 10s 12ms/step - loss: 0.1952 - val_loss: 0.2039\n",
      "Epoch 14/100\n",
      "883/883 [==============================] - 9s 10ms/step - loss: 0.1951 - val_loss: 0.2040\n",
      "Epoch 15/100\n",
      "883/883 [==============================] - 9s 10ms/step - loss: 0.1948 - val_loss: 0.2039\n",
      "Epoch 16/100\n",
      "883/883 [==============================] - 10s 12ms/step - loss: 0.1946 - val_loss: 0.2037\n",
      "Epoch 17/100\n",
      "883/883 [==============================] - 10s 11ms/step - loss: 0.1945 - val_loss: 0.2037\n",
      "Epoch 18/100\n",
      "883/883 [==============================] - 10s 11ms/step - loss: 0.1942 - val_loss: 0.2038\n",
      "Epoch 19/100\n",
      "883/883 [==============================] - 10s 11ms/step - loss: 0.1940 - val_loss: 0.2039\n",
      "Epoch 20/100\n",
      "883/883 [==============================] - 10s 11ms/step - loss: 0.1939 - val_loss: 0.2034\n",
      "Epoch 21/100\n",
      "883/883 [==============================] - 11s 12ms/step - loss: 0.1937 - val_loss: 0.2035\n",
      "Epoch 22/100\n",
      "883/883 [==============================] - 16s 18ms/step - loss: 0.1934 - val_loss: 0.2034\n",
      "Epoch 23/100\n",
      "883/883 [==============================] - 16s 18ms/step - loss: 0.1932 - val_loss: 0.2035\n",
      "Epoch 24/100\n",
      "883/883 [==============================] - 14s 16ms/step - loss: 0.1930 - val_loss: 0.2035\n",
      "Epoch 25/100\n",
      "883/883 [==============================] - 14s 15ms/step - loss: 0.1928 - val_loss: 0.2037\n",
      "Epoch 26/100\n",
      "883/883 [==============================] - 17s 19ms/step - loss: 0.1925 - val_loss: 0.2035\n",
      "Epoch 27/100\n",
      "883/883 [==============================] - 13s 15ms/step - loss: 0.1922 - val_loss: 0.2031\n",
      "Epoch 28/100\n",
      "883/883 [==============================] - 13s 15ms/step - loss: 0.1920 - val_loss: 0.2036\n",
      "Epoch 29/100\n",
      "883/883 [==============================] - 10s 12ms/step - loss: 0.1916 - val_loss: 0.2032\n",
      "Epoch 30/100\n",
      "883/883 [==============================] - 10s 12ms/step - loss: 0.1914 - val_loss: 0.2034\n",
      "Epoch 31/100\n",
      "883/883 [==============================] - 12s 14ms/step - loss: 0.1910 - val_loss: 0.2034\n",
      "Epoch 32/100\n",
      "883/883 [==============================] - 12s 13ms/step - loss: 0.1908 - val_loss: 0.2033\n",
      "Epoch 33/100\n",
      "883/883 [==============================] - 12s 13ms/step - loss: 0.1904 - val_loss: 0.2040\n",
      "Epoch 34/100\n",
      "883/883 [==============================] - 11s 13ms/step - loss: 0.1901 - val_loss: 0.2041\n",
      "Epoch 35/100\n",
      "883/883 [==============================] - 10s 11ms/step - loss: 0.1898 - val_loss: 0.2039\n",
      "Epoch 36/100\n",
      "883/883 [==============================] - 12s 13ms/step - loss: 0.1895 - val_loss: 0.2040\n",
      "Epoch 37/100\n",
      "883/883 [==============================] - 11s 13ms/step - loss: 0.1890 - val_loss: 0.2044\n"
     ]
    }
   ],
   "source": [
    "history = model.fit(train_X, train_y, epochs=100, batch_size=128, validation_data=(val_X, val_y), verbose=1, callbacks=[EarlyStopping(monitor='val_loss', patience=10)])"
   ]
  },
  {
   "cell_type": "code",
   "execution_count": 37,
   "metadata": {},
   "outputs": [
    {
     "data": {
      "text/plain": [
       "Text(0, 0.5, 'MSE')"
      ]
     },
     "execution_count": 37,
     "metadata": {},
     "output_type": "execute_result"
    },
    {
     "data": {
      "image/png": "[encoded data removed]",
      "text/plain": [
       "<Figure size 640x480 with 1 Axes>"
      ]
     },
     "metadata": {},
     "output_type": "display_data"
    }
   ],
   "source": [
    "plt.plot(history.history['loss'], label='training loss')\n",
    "plt.plot(history.history['val_loss'], label='validation loss')\n",
    "plt.legend()\n",
    "plt.xlabel('# epochs')\n",
    "plt.ylabel('MSE')"
   ]
  },
  {
   "cell_type": "code",
   "execution_count": null,
   "metadata": {},
   "outputs": [],
   "source": []
  }
 ],
 "metadata": {
  "kernelspec": {
   "display_name": "keras",
   "language": "python",
   "name": "python3"
  },
  "language_info": {
   "codemirror_mode": {
    "name": "ipython",
    "version": 3
   },
   "file_extension": ".py",
   "mimetype": "text/x-python",
   "name": "python",
   "nbconvert_exporter": "python",
   "pygments_lexer": "ipython3",
   "version": "3.9.16"
  },
  "orig_nbformat": 4
 },
 "nbformat": 4,
 "nbformat_minor": 2
}
