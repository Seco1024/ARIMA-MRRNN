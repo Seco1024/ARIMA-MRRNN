{
 "cells": [
  {
   "cell_type": "code",
   "execution_count": 26,
   "metadata": {},
   "outputs": [],
   "source": [
    "import numpy as np\n",
    "import matplotlib.pyplot as plt\n",
    "import pandas as pd\n",
    "from keras.models import Sequential, load_model\n",
    "from keras.layers import Dense, Dropout, LSTM\n",
    "from keras.callbacks import EarlyStopping, ModelCheckpoint, ReduceLROnPlateau, TensorBoard\n",
    "from keras.losses import MeanSquaredError\n",
    "from keras.optimizers import Adam\n",
    "from keras import regularizers, metrics, backend\n",
    "from sklearn.preprocessing import MinMaxScaler\n",
    "from lib import lstm_tools\n",
    "import os"
   ]
  },
  {
   "attachments": {},
   "cell_type": "markdown",
   "metadata": {},
   "source": [
    "## **ARIMA input**"
   ]
  },
  {
   "cell_type": "code",
   "execution_count": 3,
   "metadata": {},
   "outputs": [],
   "source": [
    "parent_dir = os.path.abspath(os.path.join(os.getcwd(), os.path.pardir))\n",
    "files_dir = os.path.join(parent_dir, 'data/VARMA_ARIMA/after_ARIMA/')\n",
    "data = []\n",
    "d = 0\n",
    "\n",
    "for file in os.listdir(files_dir):\n",
    "    file_path = os.path.join(files_dir, file)\n",
    "    df = pd.read_csv(file_path, index_col='date', parse_dates=True)\n",
    "    if not d:\n",
    "        dates = df.index\n",
    "        d = 1\n",
    "    if np.isnan(df).any().any() or np.isnan(df).any().any() :\n",
    "        print(file)\n",
    "        continue\n",
    "    data.append(df.reset_index(drop=True))"
   ]
  },
  {
   "attachments": {},
   "cell_type": "markdown",
   "metadata": {},
   "source": [
    "## **預處理：MinMax Scaler**"
   ]
  },
  {
   "cell_type": "code",
   "execution_count": 4,
   "metadata": {},
   "outputs": [],
   "source": [
    "# scaler = MinMaxScaler()"
   ]
  },
  {
   "attachments": {},
   "cell_type": "markdown",
   "metadata": {},
   "source": [
    "## **預處理：切割資料集**"
   ]
  },
  {
   "cell_type": "code",
   "execution_count": 5,
   "metadata": {},
   "outputs": [],
   "source": [
    "X, y, train_X, train_y, val_X, val_y, test_X, test_y = [],[],[],[],[],[],[],[]\n",
    "past_n = 5\n",
    "future_n = 1\n",
    "\n",
    "for pair_corr in data:\n",
    "    # scaler.fit(pair_corr)\n",
    "    # pair_corr = scaler.transform(pair_corr)\n",
    "    for i in range(past_n, len(pair_corr) - future_n + 1):\n",
    "        X.append(pair_corr[i - past_n:i])\n",
    "        y.append(pair_corr[i + future_n - 1:i + future_n]['close'])"
   ]
  },
  {
   "cell_type": "code",
   "execution_count": 6,
   "metadata": {},
   "outputs": [],
   "source": [
    "X = np.array([X[i].values.tolist() for i in range(len(X))])\n",
    "y = np.array([a.values.tolist() for a in y])"
   ]
  },
  {
   "cell_type": "code",
   "execution_count": 7,
   "metadata": {},
   "outputs": [],
   "source": [
    "train_X, train_y = X[:int(len(X) * 0.7)], y[:int(len(X) * 0.7)]\n",
    "val_X, val_y = X[int(len(X) * 0.7):int(len(X) * (0.7 + 0.15))], y[int(len(X) * 0.7):int(len(X) * (0.7 + 0.15))]\n",
    "test_X, test_y = X[int(len(X) * (0.7 + 0.15)):], y[int(len(X) * (0.7 + 0.15)):]"
   ]
  },
  {
   "cell_type": "code",
   "execution_count": 8,
   "metadata": {},
   "outputs": [],
   "source": [
    "input_shape = (train_X.shape[1], train_X.shape[2])"
   ]
  },
  {
   "cell_type": "code",
   "execution_count": 9,
   "metadata": {},
   "outputs": [
    {
     "data": {
      "text/plain": [
       "1"
      ]
     },
     "execution_count": 9,
     "metadata": {},
     "output_type": "execute_result"
    }
   ],
   "source": [
    "train_y.shape[1]"
   ]
  },
  {
   "attachments": {},
   "cell_type": "markdown",
   "metadata": {},
   "source": [
    "## **模型訓練**"
   ]
  },
  {
   "cell_type": "code",
   "execution_count": 10,
   "metadata": {},
   "outputs": [],
   "source": [
    "def rmse(y_true, y_pred):\n",
    "    return backend.sqrt(backend.mean(backend.square(y_pred - y_true)))"
   ]
  },
  {
   "cell_type": "code",
   "execution_count": 11,
   "metadata": {},
   "outputs": [],
   "source": [
    "def build_lstm_model(x_shape, y_shape, neurons, dropout_rate, is_doubled_layer, is_regularized):\n",
    "    model = Sequential()\n",
    "    if is_doubled_layer:\n",
    "        model.add(LSTM(neurons, input_shape=x_shape, return_sequences=True))\n",
    "        model.add(Dropout(dropout_rate))\n",
    "        model.add(LSTM(int(neurons/2), input_shape=x_shape, return_sequences=True))\n",
    "        model.add(Dropout(dropout_rate))\n",
    "    else:\n",
    "        model.add(LSTM(neurons, input_shape=x_shape))\n",
    "        model.add(Dropout(dropout_rate))\n",
    "    if is_regularized:\n",
    "        model.add(Dense(x_shape[1], 'relu',  kernel_regularizer=regularizers.l2(0.01)))\n",
    "    else:\n",
    "        model.add(Dense(x_shape[1], 'relu'))\n",
    "    model.add(Dense(y_shape, 'linear'))\n",
    "    \n",
    "    adam = Adam(lr=0.001)\n",
    "    mse = MeanSquaredError()\n",
    "    model.compile(optimizer=adam, loss=mse, metrics=[metrics.MSE, metrics.MAE])\n",
    "    return model"
   ]
  },
  {
   "cell_type": "code",
   "execution_count": 12,
   "metadata": {},
   "outputs": [
    {
     "name": "stderr",
     "output_type": "stream",
     "text": [
      "2023-05-11 04:46:57.649812: I tensorflow/core/common_runtime/process_util.cc:146] Creating new thread pool with default inter op setting: 2. Tune using inter_op_parallelism_threads for best performance.\n"
     ]
    },
    {
     "name": "stdout",
     "output_type": "stream",
     "text": [
      "Model: \"sequential\"\n",
      "_________________________________________________________________\n",
      " Layer (type)                Output Shape              Param #   \n",
      "=================================================================\n",
      " lstm (LSTM)                 (None, 64)                18688     \n",
      "                                                                 \n",
      " dropout (Dropout)           (None, 64)                0         \n",
      "                                                                 \n",
      " dense (Dense)               (None, 8)                 520       \n",
      "                                                                 \n",
      " dense_1 (Dense)             (None, 1)                 9         \n",
      "                                                                 \n",
      "=================================================================\n",
      "Total params: 19,217\n",
      "Trainable params: 19,217\n",
      "Non-trainable params: 0\n",
      "_________________________________________________________________\n"
     ]
    },
    {
     "name": "stderr",
     "output_type": "stream",
     "text": [
      "2023-05-11 04:46:57.967652: I tensorflow/core/common_runtime/executor.cc:1197] [/device:CPU:0] (DEBUG INFO) Executor start aborting (this does not indicate an error and you can ignore this message): INVALID_ARGUMENT: You must feed a value for placeholder tensor 'gradients/split_2_grad/concat/split_2/split_dim' with dtype int32\n",
      "\t [[{{node gradients/split_2_grad/concat/split_2/split_dim}}]]\n",
      "2023-05-11 04:46:57.969395: I tensorflow/core/common_runtime/executor.cc:1197] [/device:CPU:0] (DEBUG INFO) Executor start aborting (this does not indicate an error and you can ignore this message): INVALID_ARGUMENT: You must feed a value for placeholder tensor 'gradients/split_grad/concat/split/split_dim' with dtype int32\n",
      "\t [[{{node gradients/split_grad/concat/split/split_dim}}]]\n",
      "2023-05-11 04:46:57.970742: I tensorflow/core/common_runtime/executor.cc:1197] [/device:CPU:0] (DEBUG INFO) Executor start aborting (this does not indicate an error and you can ignore this message): INVALID_ARGUMENT: You must feed a value for placeholder tensor 'gradients/split_1_grad/concat/split_1/split_dim' with dtype int32\n",
      "\t [[{{node gradients/split_1_grad/concat/split_1/split_dim}}]]\n",
      "/home/seco/packages/miniconda3/envs/VARMA-MRRNN/lib/python3.9/site-packages/keras/optimizers/legacy/adam.py:117: UserWarning: The `lr` argument is deprecated, use `learning_rate` instead.\n",
      "  super().__init__(name, **kwargs)\n"
     ]
    }
   ],
   "source": [
    "model = build_lstm_model(input_shape, 1, 64, 0.5, 0, 1)\n",
    "model.summary()"
   ]
  },
  {
   "cell_type": "code",
   "execution_count": 14,
   "metadata": {},
   "outputs": [],
   "source": [
    "checkpoint_dir = os.path.join(parent_dir, 'models/0511.h5')\n",
    "early_stopping = EarlyStopping(monitor='val_loss', patience=6)\n",
    "checkpoint_callback = ModelCheckpoint(checkpoint_dir, monitor='val_loss', verbose=1, \n",
    "                                      mode='min', save_best_only=True)\n",
    "lr_reduction = ReduceLROnPlateau(monitor='val_loss', factor=0.2,\n",
    "                              patience=3, min_lr=0.0005)\n"
   ]
  },
  {
   "cell_type": "code",
   "execution_count": 16,
   "metadata": {},
   "outputs": [
    {
     "name": "stdout",
     "output_type": "stream",
     "text": [
      "Epoch 1/100\n",
      "910/911 [============================>.] - ETA: 0s - loss: 0.1961 - mean_squared_error: 0.1959 - mean_absolute_error: 0.3650\n",
      "Epoch 1: val_loss improved from 0.19665 to 0.19649, saving model to /home/seco/documents/VARMA-MRRNN/models/0511.h5\n",
      "911/911 [==============================] - 11s 12ms/step - loss: 0.1961 - mean_squared_error: 0.1959 - mean_absolute_error: 0.3650 - val_loss: 0.1965 - val_mean_squared_error: 0.1963 - val_mean_absolute_error: 0.3671\n",
      "Epoch 2/100\n",
      "910/911 [============================>.] - ETA: 0s - loss: 0.1959 - mean_squared_error: 0.1957 - mean_absolute_error: 0.3649\n",
      "Epoch 2: val_loss did not improve from 0.19649\n",
      "911/911 [==============================] - 12s 13ms/step - loss: 0.1959 - mean_squared_error: 0.1956 - mean_absolute_error: 0.3649 - val_loss: 0.1966 - val_mean_squared_error: 0.1963 - val_mean_absolute_error: 0.3648\n",
      "Epoch 3/100\n",
      "909/911 [============================>.] - ETA: 0s - loss: 0.1957 - mean_squared_error: 0.1954 - mean_absolute_error: 0.3645\n",
      "Epoch 3: val_loss improved from 0.19649 to 0.19629, saving model to /home/seco/documents/VARMA-MRRNN/models/0511.h5\n",
      "911/911 [==============================] - 13s 14ms/step - loss: 0.1957 - mean_squared_error: 0.1954 - mean_absolute_error: 0.3645 - val_loss: 0.1963 - val_mean_squared_error: 0.1960 - val_mean_absolute_error: 0.3652\n",
      "Epoch 4/100\n",
      "910/911 [============================>.] - ETA: 0s - loss: 0.1955 - mean_squared_error: 0.1953 - mean_absolute_error: 0.3645\n",
      "Epoch 4: val_loss did not improve from 0.19629\n",
      "911/911 [==============================] - 15s 17ms/step - loss: 0.1955 - mean_squared_error: 0.1953 - mean_absolute_error: 0.3645 - val_loss: 0.1969 - val_mean_squared_error: 0.1966 - val_mean_absolute_error: 0.3689\n",
      "Epoch 5/100\n",
      "909/911 [============================>.] - ETA: 0s - loss: 0.1954 - mean_squared_error: 0.1952 - mean_absolute_error: 0.3643\n",
      "Epoch 5: val_loss did not improve from 0.19629\n",
      "911/911 [==============================] - 12s 13ms/step - loss: 0.1954 - mean_squared_error: 0.1952 - mean_absolute_error: 0.3643 - val_loss: 0.1963 - val_mean_squared_error: 0.1961 - val_mean_absolute_error: 0.3673\n",
      "Epoch 6/100\n",
      "910/911 [============================>.] - ETA: 0s - loss: 0.1953 - mean_squared_error: 0.1950 - mean_absolute_error: 0.3642\n",
      "Epoch 6: val_loss did not improve from 0.19629\n",
      "911/911 [==============================] - 13s 14ms/step - loss: 0.1953 - mean_squared_error: 0.1950 - mean_absolute_error: 0.3642 - val_loss: 0.1965 - val_mean_squared_error: 0.1962 - val_mean_absolute_error: 0.3678\n",
      "Epoch 7/100\n",
      "908/911 [============================>.] - ETA: 0s - loss: 0.1951 - mean_squared_error: 0.1949 - mean_absolute_error: 0.3639\n",
      "Epoch 7: val_loss improved from 0.19629 to 0.19592, saving model to /home/seco/documents/VARMA-MRRNN/models/0511.h5\n",
      "911/911 [==============================] - 13s 15ms/step - loss: 0.1951 - mean_squared_error: 0.1948 - mean_absolute_error: 0.3639 - val_loss: 0.1959 - val_mean_squared_error: 0.1956 - val_mean_absolute_error: 0.3644\n",
      "Epoch 8/100\n",
      "911/911 [==============================] - ETA: 0s - loss: 0.1949 - mean_squared_error: 0.1946 - mean_absolute_error: 0.3637\n",
      "Epoch 8: val_loss did not improve from 0.19592\n",
      "911/911 [==============================] - 12s 13ms/step - loss: 0.1949 - mean_squared_error: 0.1946 - mean_absolute_error: 0.3637 - val_loss: 0.1961 - val_mean_squared_error: 0.1958 - val_mean_absolute_error: 0.3640\n",
      "Epoch 9/100\n",
      "909/911 [============================>.] - ETA: 0s - loss: 0.1948 - mean_squared_error: 0.1946 - mean_absolute_error: 0.3635\n",
      "Epoch 9: val_loss did not improve from 0.19592\n",
      "911/911 [==============================] - 13s 15ms/step - loss: 0.1948 - mean_squared_error: 0.1945 - mean_absolute_error: 0.3635 - val_loss: 0.1960 - val_mean_squared_error: 0.1958 - val_mean_absolute_error: 0.3669\n",
      "Epoch 10/100\n",
      "909/911 [============================>.] - ETA: 0s - loss: 0.1945 - mean_squared_error: 0.1942 - mean_absolute_error: 0.3632\n",
      "Epoch 10: val_loss did not improve from 0.19592\n",
      "911/911 [==============================] - 12s 13ms/step - loss: 0.1945 - mean_squared_error: 0.1942 - mean_absolute_error: 0.3632 - val_loss: 0.1960 - val_mean_squared_error: 0.1957 - val_mean_absolute_error: 0.3658\n",
      "Epoch 11/100\n",
      "909/911 [============================>.] - ETA: 0s - loss: 0.1943 - mean_squared_error: 0.1941 - mean_absolute_error: 0.3630\n",
      "Epoch 11: val_loss did not improve from 0.19592\n",
      "911/911 [==============================] - 13s 14ms/step - loss: 0.1943 - mean_squared_error: 0.1941 - mean_absolute_error: 0.3630 - val_loss: 0.1959 - val_mean_squared_error: 0.1957 - val_mean_absolute_error: 0.3649\n",
      "Epoch 12/100\n",
      "911/911 [==============================] - ETA: 0s - loss: 0.1942 - mean_squared_error: 0.1939 - mean_absolute_error: 0.3628\n",
      "Epoch 12: val_loss improved from 0.19592 to 0.19587, saving model to /home/seco/documents/VARMA-MRRNN/models/0511.h5\n",
      "911/911 [==============================] - 12s 13ms/step - loss: 0.1942 - mean_squared_error: 0.1939 - mean_absolute_error: 0.3628 - val_loss: 0.1959 - val_mean_squared_error: 0.1956 - val_mean_absolute_error: 0.3669\n",
      "Epoch 13/100\n",
      "911/911 [==============================] - ETA: 0s - loss: 0.1939 - mean_squared_error: 0.1936 - mean_absolute_error: 0.3626\n",
      "Epoch 13: val_loss did not improve from 0.19587\n",
      "911/911 [==============================] - 13s 14ms/step - loss: 0.1939 - mean_squared_error: 0.1936 - mean_absolute_error: 0.3626 - val_loss: 0.1960 - val_mean_squared_error: 0.1957 - val_mean_absolute_error: 0.3627\n",
      "Epoch 14/100\n",
      "911/911 [==============================] - ETA: 0s - loss: 0.1937 - mean_squared_error: 0.1934 - mean_absolute_error: 0.3622\n",
      "Epoch 14: val_loss did not improve from 0.19587\n",
      "911/911 [==============================] - 12s 13ms/step - loss: 0.1937 - mean_squared_error: 0.1934 - mean_absolute_error: 0.3622 - val_loss: 0.1959 - val_mean_squared_error: 0.1956 - val_mean_absolute_error: 0.3649\n",
      "Epoch 15/100\n",
      "910/911 [============================>.] - ETA: 0s - loss: 0.1935 - mean_squared_error: 0.1931 - mean_absolute_error: 0.3619\n",
      "Epoch 15: val_loss did not improve from 0.19587\n",
      "911/911 [==============================] - 11s 12ms/step - loss: 0.1934 - mean_squared_error: 0.1931 - mean_absolute_error: 0.3619 - val_loss: 0.1961 - val_mean_squared_error: 0.1958 - val_mean_absolute_error: 0.3663\n",
      "Epoch 16/100\n",
      "911/911 [==============================] - ETA: 0s - loss: 0.1933 - mean_squared_error: 0.1930 - mean_absolute_error: 0.3617\n",
      "Epoch 16: val_loss improved from 0.19587 to 0.19577, saving model to /home/seco/documents/VARMA-MRRNN/models/0511.h5\n",
      "911/911 [==============================] - 13s 14ms/step - loss: 0.1933 - mean_squared_error: 0.1930 - mean_absolute_error: 0.3617 - val_loss: 0.1958 - val_mean_squared_error: 0.1955 - val_mean_absolute_error: 0.3665\n",
      "Epoch 17/100\n",
      "908/911 [============================>.] - ETA: 0s - loss: 0.1930 - mean_squared_error: 0.1927 - mean_absolute_error: 0.3616\n",
      "Epoch 17: val_loss did not improve from 0.19577\n",
      "911/911 [==============================] - 13s 14ms/step - loss: 0.1931 - mean_squared_error: 0.1928 - mean_absolute_error: 0.3616 - val_loss: 0.1964 - val_mean_squared_error: 0.1961 - val_mean_absolute_error: 0.3613\n",
      "Epoch 18/100\n",
      "909/911 [============================>.] - ETA: 0s - loss: 0.1929 - mean_squared_error: 0.1925 - mean_absolute_error: 0.3611\n",
      "Epoch 18: val_loss did not improve from 0.19577\n",
      "911/911 [==============================] - 13s 15ms/step - loss: 0.1928 - mean_squared_error: 0.1925 - mean_absolute_error: 0.3611 - val_loss: 0.1961 - val_mean_squared_error: 0.1958 - val_mean_absolute_error: 0.3657\n",
      "Epoch 19/100\n",
      "909/911 [============================>.] - ETA: 0s - loss: 0.1925 - mean_squared_error: 0.1922 - mean_absolute_error: 0.3609\n",
      "Epoch 19: val_loss improved from 0.19577 to 0.19564, saving model to /home/seco/documents/VARMA-MRRNN/models/0511.h5\n",
      "911/911 [==============================] - 12s 14ms/step - loss: 0.1925 - mean_squared_error: 0.1921 - mean_absolute_error: 0.3609 - val_loss: 0.1956 - val_mean_squared_error: 0.1953 - val_mean_absolute_error: 0.3630\n",
      "Epoch 20/100\n",
      "909/911 [============================>.] - ETA: 0s - loss: 0.1922 - mean_squared_error: 0.1919 - mean_absolute_error: 0.3605\n",
      "Epoch 20: val_loss did not improve from 0.19564\n",
      "911/911 [==============================] - 12s 13ms/step - loss: 0.1923 - mean_squared_error: 0.1919 - mean_absolute_error: 0.3605 - val_loss: 0.1958 - val_mean_squared_error: 0.1955 - val_mean_absolute_error: 0.3656\n",
      "Epoch 21/100\n",
      "908/911 [============================>.] - ETA: 0s - loss: 0.1919 - mean_squared_error: 0.1915 - mean_absolute_error: 0.3600\n",
      "Epoch 21: val_loss did not improve from 0.19564\n",
      "911/911 [==============================] - 12s 13ms/step - loss: 0.1919 - mean_squared_error: 0.1915 - mean_absolute_error: 0.3601 - val_loss: 0.1959 - val_mean_squared_error: 0.1955 - val_mean_absolute_error: 0.3656\n",
      "Epoch 22/100\n",
      "909/911 [============================>.] - ETA: 0s - loss: 0.1915 - mean_squared_error: 0.1912 - mean_absolute_error: 0.3597\n",
      "Epoch 22: val_loss did not improve from 0.19564\n",
      "911/911 [==============================] - 12s 13ms/step - loss: 0.1915 - mean_squared_error: 0.1912 - mean_absolute_error: 0.3597 - val_loss: 0.1963 - val_mean_squared_error: 0.1960 - val_mean_absolute_error: 0.3614\n",
      "Epoch 23/100\n",
      "910/911 [============================>.] - ETA: 0s - loss: 0.1913 - mean_squared_error: 0.1909 - mean_absolute_error: 0.3595\n",
      "Epoch 23: val_loss did not improve from 0.19564\n",
      "911/911 [==============================] - 12s 13ms/step - loss: 0.1913 - mean_squared_error: 0.1910 - mean_absolute_error: 0.3595 - val_loss: 0.1957 - val_mean_squared_error: 0.1954 - val_mean_absolute_error: 0.3647\n",
      "Epoch 24/100\n",
      "911/911 [==============================] - ETA: 0s - loss: 0.1911 - mean_squared_error: 0.1907 - mean_absolute_error: 0.3593\n",
      "Epoch 24: val_loss improved from 0.19564 to 0.19557, saving model to /home/seco/documents/VARMA-MRRNN/models/0511.h5\n",
      "911/911 [==============================] - 12s 14ms/step - loss: 0.1911 - mean_squared_error: 0.1907 - mean_absolute_error: 0.3593 - val_loss: 0.1956 - val_mean_squared_error: 0.1953 - val_mean_absolute_error: 0.3642\n",
      "Epoch 25/100\n",
      "911/911 [==============================] - ETA: 0s - loss: 0.1908 - mean_squared_error: 0.1904 - mean_absolute_error: 0.3588\n",
      "Epoch 25: val_loss did not improve from 0.19557\n",
      "911/911 [==============================] - 15s 17ms/step - loss: 0.1908 - mean_squared_error: 0.1904 - mean_absolute_error: 0.3588 - val_loss: 0.1965 - val_mean_squared_error: 0.1961 - val_mean_absolute_error: 0.3665\n",
      "Epoch 26/100\n",
      "908/911 [============================>.] - ETA: 0s - loss: 0.1904 - mean_squared_error: 0.1900 - mean_absolute_error: 0.3584\n",
      "Epoch 26: val_loss did not improve from 0.19557\n",
      "911/911 [==============================] - 15s 17ms/step - loss: 0.1903 - mean_squared_error: 0.1899 - mean_absolute_error: 0.3584 - val_loss: 0.1959 - val_mean_squared_error: 0.1956 - val_mean_absolute_error: 0.3640\n",
      "Epoch 27/100\n",
      "911/911 [==============================] - ETA: 0s - loss: 0.1901 - mean_squared_error: 0.1897 - mean_absolute_error: 0.3579\n",
      "Epoch 27: val_loss did not improve from 0.19557\n",
      "911/911 [==============================] - 15s 17ms/step - loss: 0.1901 - mean_squared_error: 0.1897 - mean_absolute_error: 0.3579 - val_loss: 0.1959 - val_mean_squared_error: 0.1956 - val_mean_absolute_error: 0.3637\n",
      "Epoch 28/100\n",
      "911/911 [==============================] - ETA: 0s - loss: 0.1897 - mean_squared_error: 0.1893 - mean_absolute_error: 0.3575\n",
      "Epoch 28: val_loss did not improve from 0.19557\n",
      "911/911 [==============================] - 16s 17ms/step - loss: 0.1897 - mean_squared_error: 0.1893 - mean_absolute_error: 0.3575 - val_loss: 0.1963 - val_mean_squared_error: 0.1959 - val_mean_absolute_error: 0.3636\n",
      "Epoch 29/100\n",
      "909/911 [============================>.] - ETA: 0s - loss: 0.1894 - mean_squared_error: 0.1890 - mean_absolute_error: 0.3572\n",
      "Epoch 29: val_loss did not improve from 0.19557\n",
      "911/911 [==============================] - 15s 16ms/step - loss: 0.1894 - mean_squared_error: 0.1890 - mean_absolute_error: 0.3572 - val_loss: 0.1968 - val_mean_squared_error: 0.1964 - val_mean_absolute_error: 0.3667\n",
      "Epoch 30/100\n",
      "910/911 [============================>.] - ETA: 0s - loss: 0.1890 - mean_squared_error: 0.1885 - mean_absolute_error: 0.3567\n",
      "Epoch 30: val_loss did not improve from 0.19557\n",
      "911/911 [==============================] - 15s 17ms/step - loss: 0.1890 - mean_squared_error: 0.1886 - mean_absolute_error: 0.3567 - val_loss: 0.1967 - val_mean_squared_error: 0.1963 - val_mean_absolute_error: 0.3656\n",
      "Epoch 31/100\n",
      "910/911 [============================>.] - ETA: 0s - loss: 0.1886 - mean_squared_error: 0.1882 - mean_absolute_error: 0.3561\n",
      "Epoch 31: val_loss did not improve from 0.19557\n",
      "911/911 [==============================] - 16s 17ms/step - loss: 0.1886 - mean_squared_error: 0.1882 - mean_absolute_error: 0.3561 - val_loss: 0.1967 - val_mean_squared_error: 0.1963 - val_mean_absolute_error: 0.3649\n",
      "Epoch 32/100\n",
      "911/911 [==============================] - ETA: 0s - loss: 0.1882 - mean_squared_error: 0.1877 - mean_absolute_error: 0.3557\n",
      "Epoch 32: val_loss did not improve from 0.19557\n",
      "911/911 [==============================] - 16s 17ms/step - loss: 0.1882 - mean_squared_error: 0.1877 - mean_absolute_error: 0.3557 - val_loss: 0.1973 - val_mean_squared_error: 0.1969 - val_mean_absolute_error: 0.3673\n",
      "Epoch 33/100\n",
      "909/911 [============================>.] - ETA: 0s - loss: 0.1878 - mean_squared_error: 0.1874 - mean_absolute_error: 0.3553\n",
      "Epoch 33: val_loss did not improve from 0.19557\n",
      "911/911 [==============================] - 13s 14ms/step - loss: 0.1878 - mean_squared_error: 0.1874 - mean_absolute_error: 0.3553 - val_loss: 0.1969 - val_mean_squared_error: 0.1965 - val_mean_absolute_error: 0.3634\n",
      "Epoch 34/100\n",
      "909/911 [============================>.] - ETA: 0s - loss: 0.1873 - mean_squared_error: 0.1869 - mean_absolute_error: 0.3548\n",
      "Epoch 34: val_loss did not improve from 0.19557\n",
      "911/911 [==============================] - 13s 14ms/step - loss: 0.1873 - mean_squared_error: 0.1869 - mean_absolute_error: 0.3548 - val_loss: 0.1972 - val_mean_squared_error: 0.1968 - val_mean_absolute_error: 0.3649\n"
     ]
    }
   ],
   "source": [
    "history = model.fit(train_X, train_y, epochs=100, batch_size=128, validation_data=(val_X, val_y), callbacks=[early_stopping, checkpoint_callback, lr_reduction])"
   ]
  },
  {
   "cell_type": "code",
   "execution_count": 22,
   "metadata": {},
   "outputs": [],
   "source": [
    "def visialize_loss_plot(history):\n",
    "    plt.plot(history.history['mean_squared_error'], label='training MSE')\n",
    "    plt.plot(history.history['val_mean_squared_error'], label='validation MSE')\n",
    "    plt.legend()\n",
    "    plt.xlabel('# epochs')\n",
    "    plt.ylabel('MSE')\n",
    "    plt.show()"
   ]
  },
  {
   "cell_type": "code",
   "execution_count": 23,
   "metadata": {},
   "outputs": [
    {
     "data": {
      "image/png": "[encoded data removed]",
      "text/plain": [
       "<Figure size 640x480 with 1 Axes>"
      ]
     },
     "metadata": {},
     "output_type": "display_data"
    }
   ],
   "source": [
    "visialize_loss_plot(history)"
   ]
  },
  {
   "cell_type": "code",
   "execution_count": 37,
   "metadata": {},
   "outputs": [],
   "source": [
    "def evaluate_model(model, train_X, train_y, val_X, val_y, test_X, test_y):\n",
    "    score_train = model.evaluate(train_X, train_y)\n",
    "    score_test = model.evaluate(test_X, test_y)\n",
    "    score_val = model.evaluate(val_X, val_y)\n",
    "    evaluate_df = pd.DataFrame(np.array([score_train[1], score_val[1], score_test[1], \n",
    "                                score_train[2], score_val[2], score_test[2]]).reshape(-1, 6),\n",
    "                      columns=[\"train_MSE\", \"val_MSE\", \"test_MSE\", \"train_MAE\", \"val_MAE\", \"test_MAE\"])\n",
    "    evaluate_df.to_csv(os.path.join(parent_dir, f'out/LSTM_error/0511.csv'), index=False)\n",
    "    "
   ]
  },
  {
   "cell_type": "code",
   "execution_count": 38,
   "metadata": {},
   "outputs": [
    {
     "name": "stderr",
     "output_type": "stream",
     "text": [
      "2023-05-11 05:21:08.364611: I tensorflow/core/common_runtime/executor.cc:1197] [/device:CPU:0] (DEBUG INFO) Executor start aborting (this does not indicate an error and you can ignore this message): INVALID_ARGUMENT: You must feed a value for placeholder tensor 'gradients/split_2_grad/concat/split_2/split_dim' with dtype int32\n",
      "\t [[{{node gradients/split_2_grad/concat/split_2/split_dim}}]]\n",
      "2023-05-11 05:21:08.366382: I tensorflow/core/common_runtime/executor.cc:1197] [/device:CPU:0] (DEBUG INFO) Executor start aborting (this does not indicate an error and you can ignore this message): INVALID_ARGUMENT: You must feed a value for placeholder tensor 'gradients/split_grad/concat/split/split_dim' with dtype int32\n",
      "\t [[{{node gradients/split_grad/concat/split/split_dim}}]]\n",
      "2023-05-11 05:21:08.367711: I tensorflow/core/common_runtime/executor.cc:1197] [/device:CPU:0] (DEBUG INFO) Executor start aborting (this does not indicate an error and you can ignore this message): INVALID_ARGUMENT: You must feed a value for placeholder tensor 'gradients/split_1_grad/concat/split_1/split_dim' with dtype int32\n",
      "\t [[{{node gradients/split_1_grad/concat/split_1/split_dim}}]]\n"
     ]
    }
   ],
   "source": [
    "best_model = load_model(os.path.join(parent_dir, 'models/0511.h5'))"
   ]
  },
  {
   "cell_type": "code",
   "execution_count": 39,
   "metadata": {},
   "outputs": [
    {
     "name": "stderr",
     "output_type": "stream",
     "text": [
      "2023-05-11 05:21:17.331249: I tensorflow/core/common_runtime/executor.cc:1197] [/device:CPU:0] (DEBUG INFO) Executor start aborting (this does not indicate an error and you can ignore this message): INVALID_ARGUMENT: You must feed a value for placeholder tensor 'gradients/split_2_grad/concat/split_2/split_dim' with dtype int32\n",
      "\t [[{{node gradients/split_2_grad/concat/split_2/split_dim}}]]\n",
      "2023-05-11 05:21:17.333078: I tensorflow/core/common_runtime/executor.cc:1197] [/device:CPU:0] (DEBUG INFO) Executor start aborting (this does not indicate an error and you can ignore this message): INVALID_ARGUMENT: You must feed a value for placeholder tensor 'gradients/split_grad/concat/split/split_dim' with dtype int32\n",
      "\t [[{{node gradients/split_grad/concat/split/split_dim}}]]\n",
      "2023-05-11 05:21:17.334463: I tensorflow/core/common_runtime/executor.cc:1197] [/device:CPU:0] (DEBUG INFO) Executor start aborting (this does not indicate an error and you can ignore this message): INVALID_ARGUMENT: You must feed a value for placeholder tensor 'gradients/split_1_grad/concat/split_1/split_dim' with dtype int32\n",
      "\t [[{{node gradients/split_1_grad/concat/split_1/split_dim}}]]\n"
     ]
    },
    {
     "name": "stdout",
     "output_type": "stream",
     "text": [
      "3644/3644 [==============================] - 12s 3ms/step - loss: 0.1899 - mean_squared_error: 0.1896 - mean_absolute_error: 0.3583\n",
      "781/781 [==============================] - 3s 4ms/step - loss: 0.1978 - mean_squared_error: 0.1975 - mean_absolute_error: 0.3664\n",
      "781/781 [==============================] - 4s 4ms/step - loss: 0.1956 - mean_squared_error: 0.1953 - mean_absolute_error: 0.3642\n"
     ]
    }
   ],
   "source": [
    "evaluate_model(best_model, train_X, train_y, val_X, val_y, test_X, test_y)"
   ]
  },
  {
   "attachments": {},
   "cell_type": "markdown",
   "metadata": {},
   "source": [
    "## **預測**"
   ]
  },
  {
   "cell_type": "code",
   "execution_count": null,
   "metadata": {},
   "outputs": [],
   "source": []
  }
 ],
 "metadata": {
  "kernelspec": {
   "display_name": "keras",
   "language": "python",
   "name": "python3"
  },
  "language_info": {
   "codemirror_mode": {
    "name": "ipython",
    "version": 3
   },
   "file_extension": ".py",
   "mimetype": "text/x-python",
   "name": "python",
   "nbconvert_exporter": "python",
   "pygments_lexer": "ipython3",
   "version": "3.9.16"
  },
  "orig_nbformat": 4
 },
 "nbformat": 4,
 "nbformat_minor": 2
}
